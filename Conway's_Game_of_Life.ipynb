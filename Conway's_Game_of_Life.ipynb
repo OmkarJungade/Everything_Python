{
 "cells": [
  {
   "cell_type": "markdown",
   "metadata": {},
   "source": [
    "## Rules\n",
    "*    The game is based on a population count in an infinite 2-dimensional world.\n",
    "\n",
    "*   At every iteration (generation) of the world, each cell can either be live or dead.\n",
    "*   Any live cell with less than 2 members dies, as if by under-population.\n",
    "*   Any live cell with more than 3 members dies, as if by over-crowding.\n",
    "*   Ayn dead cell with exactly 3 live members, becomes live, as if by reproduction."
   ]
  },
  {
   "cell_type": "markdown",
   "metadata": {},
   "source": [
    "## Grid Design"
   ]
  },
  {
   "cell_type": "code",
   "execution_count": 1,
   "metadata": {},
   "outputs": [
    {
     "name": "stdout",
     "output_type": "stream",
     "text": [
      "pygame 2.1.2 (SDL 2.0.18, Python 3.10.1)\n",
      "Hello from the pygame community. https://www.pygame.org/contribute.html\n"
     ]
    }
   ],
   "source": [
    "import pygame\n",
    "import random"
   ]
  },
  {
   "cell_type": "code",
   "execution_count": 2,
   "metadata": {},
   "outputs": [],
   "source": [
    "pygame.init()\n",
    "BLACK = (0,0,0)\n",
    "GREY = (128,128,128)\n",
    "YELLOW = (255,255,0)\n",
    "WHITE = (255,255,255)\n",
    "\n",
    "width, height = 600,600\n",
    "tile_size = 20\n",
    "grid_height = height // tile_size\n",
    "grid_width = width // tile_size\n",
    "fps = 60\n",
    "\n",
    "screen = pygame.display.set_mode((width,height))\n",
    "\n",
    "clock = pygame.time.Clock()\n",
    "\n",
    "def draw_grid(positions):\n",
    "  for position in positions:\n",
    "    col, row = position\n",
    "    top_left = (col * tile_size, row *tile_size)\n",
    "    pygame.draw.rect(screen, YELLOW, (*top_left, tile_size, tile_size))\n",
    "\n",
    "  for row in range(grid_height):\n",
    "    pygame.draw.line(screen, BLACK, (0, row * tile_size), (width, row * tile_size))\n",
    "    #pygame.draw.line(screen, BLACK, (row*tile_size*2, height),(height, row*tile_size*2))\n",
    "    #pygame.draw.line(screen, BLACK, (-row*tile_size*2, height),(height, -row*tile_size*2))\n",
    "  for col in range(grid_width):\n",
    "    pygame.draw.line(screen, BLACK, (col * tile_size, 0), (col * tile_size, height))\n",
    "    #pygame.draw.line(screen, BLACK, (0,-col*tile_size*2), (height+col*tile_size*2, height))\n",
    "    #pygame.draw.line(screen, BLACK, (0,col*tile_size*2), (height-col*tile_size*2, height))\n",
    "    \n",
    "\n",
    "def gen(number):\n",
    "  return set([(random.randrange(0,grid_height), random.randrange(0, grid_width))  for _ in range(number)])"
   ]
  },
  {
   "cell_type": "markdown",
   "metadata": {},
   "source": [
    "## Grid Update"
   ]
  },
  {
   "cell_type": "code",
   "execution_count": 3,
   "metadata": {},
   "outputs": [],
   "source": [
    "def get_neighbors(pos):\n",
    "    x,y = pos\n",
    "    neighbors = []\n",
    "    for dx in [-1, 0, 1]:\n",
    "        if x+dx <0 or x+dx > grid_width:\n",
    "            continue\n",
    "        for dy in [-1, 0, 1]:\n",
    "            if y+dy <0 or y+dy > grid_height:\n",
    "                continue\n",
    "            if dx == 0 and dy == 0:\n",
    "                continue\n",
    "            neighbors.append((x+dx, y+dy))\n",
    "    \n",
    "    return neighbors\n",
    "\n",
    "def adjust_grid(positions):\n",
    "    all_neighbors = set()\n",
    "    new_positions = set()\n",
    "\n",
    "    for posiiton in positions:\n",
    "        neighbors = get_neighbors(posiiton)\n",
    "        all_neighbors.update(neighbors)\n",
    "\n",
    "        neighbors = list(filter(lambda x: x in positions, neighbors))\n",
    "\n",
    "        if len(neighbors) in [2,3]:\n",
    "            new_positions.add(posiiton)\n",
    "    \n",
    "    for position in all_neighbors:\n",
    "        neighbors = get_neighbors(position)\n",
    "        neighbors = list(filter(lambda x: x in positions, neighbors))\n",
    "\n",
    "        if len(neighbors) == 3:\n",
    "            new_positions.add(position)\n",
    "       \n",
    "    return new_positions"
   ]
  },
  {
   "cell_type": "markdown",
   "metadata": {},
   "source": [
    "## Main Loop"
   ]
  },
  {
   "cell_type": "code",
   "execution_count": 4,
   "metadata": {},
   "outputs": [],
   "source": [
    "def main():\n",
    "    running = True\n",
    "    playing = True\n",
    "    time_step = 0\n",
    "    update_freq = 10\n",
    "\n",
    "    positions = set()\n",
    "    while running:\n",
    "        clock.tick(fps)\n",
    "\n",
    "        screen.fill(GREY)\n",
    "        draw_grid(positions)\n",
    "        pygame.display.update()\n",
    "\n",
    "        if playing:\n",
    "            time_step += 1\n",
    "        \n",
    "        if time_step >= update_freq:\n",
    "            time_step = 0\n",
    "            positions = adjust_grid(positions = positions)\n",
    "\n",
    "        pygame.display.set_caption(\"Playing\" if playing else \"Paused\")\n",
    "\n",
    "        for event in pygame.event.get():\n",
    "            if event.type == pygame.QUIT:\n",
    "                running = False\n",
    "            \n",
    "            if event.type == pygame.MOUSEBUTTONDOWN:\n",
    "                x,y = pygame.mouse.get_pos()\n",
    "                col = x // tile_size\n",
    "                row = y // tile_size\n",
    "                pos = (col,row)\n",
    "\n",
    "                if pos in positions:\n",
    "                    positions.remove(pos)\n",
    "                else:\n",
    "                    positions.add(pos)\n",
    "            \n",
    "            if event.type == pygame.KEYDOWN:\n",
    "                if event.key == pygame.K_SPACE:\n",
    "                    playing = not playing\n",
    "                \n",
    "                if event.key == pygame.K_c:\n",
    "                    positions = set()\n",
    "                    playing = False\n",
    "                    time_step = 0\n",
    "                \n",
    "                if event.key ==  pygame.K_g:\n",
    "                    positions = gen(random.randrange(2,5)*grid_width)\n",
    "    pygame.quit()\n",
    "\n",
    "if __name__ == \"__main__\":\n",
    "    main()"
   ]
  }
 ],
 "metadata": {
  "kernelspec": {
   "display_name": "Python 3",
   "language": "python",
   "name": "python3"
  },
  "language_info": {
   "codemirror_mode": {
    "name": "ipython",
    "version": 3
   },
   "file_extension": ".py",
   "mimetype": "text/x-python",
   "name": "python",
   "nbconvert_exporter": "python",
   "pygments_lexer": "ipython3",
   "version": "3.10.1"
  }
 },
 "nbformat": 4,
 "nbformat_minor": 2
}
